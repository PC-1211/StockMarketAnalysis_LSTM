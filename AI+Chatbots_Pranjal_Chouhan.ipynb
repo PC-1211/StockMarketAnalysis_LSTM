{
  "nbformat": 4,
  "nbformat_minor": 0,
  "metadata": {
    "colab": {
      "name": "AI+Chatbots_Pranjal Chouhan.ipynb",
      "provenance": []
    },
    "kernelspec": {
      "name": "python3",
      "display_name": "Python 3"
    }
  },
  "cells": [
    {
      "cell_type": "markdown",
      "metadata": {
        "id": "98ENoA39rp9I"
      },
      "source": [
        "#STOCK TIME SERIES ANALYSIS\r\n",
        "\r\n",
        "Using LSTM to create a time series for the analysis of Stock over a time period and predicting the price of stocks of IBM for the year 2017\r\n",
        "\r\n",
        "---"
      ]
    },
    {
      "cell_type": "code",
      "metadata": {
        "id": "SBdfIhierTQe"
      },
      "source": [
        "import numpy as np\r\n",
        "import matplotlib.pyplot as plt\r\n",
        "import pandas as pd\r\n",
        "from keras.models import Sequential\r\n",
        "from keras.layers import Dense\r\n",
        "from keras.layers import LSTM\r\n",
        "import math\r\n",
        "import seaborn as sns"
      ],
      "execution_count": null,
      "outputs": []
    },
    {
      "cell_type": "code",
      "metadata": {
        "colab": {
          "base_uri": "https://localhost:8080/",
          "height": 205
        },
        "id": "jaliqjGKr94c",
        "outputId": "1cfd371b-7ea9-4e56-ef10-495c6ad00d26"
      },
      "source": [
        "# Loading train dataset\r\n",
        "dataset = pd.read_csv('/all_stocks_2006-01-01_to_2018-01-01.csv', index_col = \"Name\", parse_dates = [\"Date\"])\r\n",
        "dataset.head()"
      ],
      "execution_count": null,
      "outputs": [
        {
          "output_type": "execute_result",
          "data": {
            "text/html": [
              "<div>\n",
              "<style scoped>\n",
              "    .dataframe tbody tr th:only-of-type {\n",
              "        vertical-align: middle;\n",
              "    }\n",
              "\n",
              "    .dataframe tbody tr th {\n",
              "        vertical-align: top;\n",
              "    }\n",
              "\n",
              "    .dataframe thead th {\n",
              "        text-align: right;\n",
              "    }\n",
              "</style>\n",
              "<table border=\"1\" class=\"dataframe\">\n",
              "  <thead>\n",
              "    <tr style=\"text-align: right;\">\n",
              "      <th></th>\n",
              "      <th>Date</th>\n",
              "      <th>Open</th>\n",
              "      <th>High</th>\n",
              "      <th>Low</th>\n",
              "      <th>Close</th>\n",
              "      <th>Volume</th>\n",
              "    </tr>\n",
              "    <tr>\n",
              "      <th>Name</th>\n",
              "      <th></th>\n",
              "      <th></th>\n",
              "      <th></th>\n",
              "      <th></th>\n",
              "      <th></th>\n",
              "      <th></th>\n",
              "    </tr>\n",
              "  </thead>\n",
              "  <tbody>\n",
              "    <tr>\n",
              "      <th>MMM</th>\n",
              "      <td>2006-01-03</td>\n",
              "      <td>77.76</td>\n",
              "      <td>79.35</td>\n",
              "      <td>77.24</td>\n",
              "      <td>79.11</td>\n",
              "      <td>3117200</td>\n",
              "    </tr>\n",
              "    <tr>\n",
              "      <th>MMM</th>\n",
              "      <td>2006-01-04</td>\n",
              "      <td>79.49</td>\n",
              "      <td>79.49</td>\n",
              "      <td>78.25</td>\n",
              "      <td>78.71</td>\n",
              "      <td>2558000</td>\n",
              "    </tr>\n",
              "    <tr>\n",
              "      <th>MMM</th>\n",
              "      <td>2006-01-05</td>\n",
              "      <td>78.41</td>\n",
              "      <td>78.65</td>\n",
              "      <td>77.56</td>\n",
              "      <td>77.99</td>\n",
              "      <td>2529500</td>\n",
              "    </tr>\n",
              "    <tr>\n",
              "      <th>MMM</th>\n",
              "      <td>2006-01-06</td>\n",
              "      <td>78.64</td>\n",
              "      <td>78.90</td>\n",
              "      <td>77.64</td>\n",
              "      <td>78.63</td>\n",
              "      <td>2479500</td>\n",
              "    </tr>\n",
              "    <tr>\n",
              "      <th>MMM</th>\n",
              "      <td>2006-01-09</td>\n",
              "      <td>78.50</td>\n",
              "      <td>79.83</td>\n",
              "      <td>78.46</td>\n",
              "      <td>79.02</td>\n",
              "      <td>1845600</td>\n",
              "    </tr>\n",
              "  </tbody>\n",
              "</table>\n",
              "</div>"
            ],
            "text/plain": [
              "           Date   Open   High    Low  Close   Volume\n",
              "Name                                                \n",
              "MMM  2006-01-03  77.76  79.35  77.24  79.11  3117200\n",
              "MMM  2006-01-04  79.49  79.49  78.25  78.71  2558000\n",
              "MMM  2006-01-05  78.41  78.65  77.56  77.99  2529500\n",
              "MMM  2006-01-06  78.64  78.90  77.64  78.63  2479500\n",
              "MMM  2006-01-09  78.50  79.83  78.46  79.02  1845600"
            ]
          },
          "metadata": {
            "tags": []
          },
          "execution_count": 2
        }
      ]
    },
    {
      "cell_type": "code",
      "metadata": {
        "id": "2PCevCy-8q0k"
      },
      "source": [
        "data = dataset.loc[\"IBM\"]"
      ],
      "execution_count": null,
      "outputs": []
    },
    {
      "cell_type": "code",
      "metadata": {
        "id": "vZROBbafIvS1"
      },
      "source": [
        "data = data.reset_index().set_index('Date')"
      ],
      "execution_count": null,
      "outputs": []
    },
    {
      "cell_type": "code",
      "metadata": {
        "colab": {
          "base_uri": "https://localhost:8080/",
          "height": 205
        },
        "id": "gFjNDozVGpKc",
        "outputId": "9501c3c3-817a-44a1-f7b4-9b1030162f9b"
      },
      "source": [
        "data.head()"
      ],
      "execution_count": null,
      "outputs": [
        {
          "output_type": "execute_result",
          "data": {
            "text/html": [
              "<div>\n",
              "<style scoped>\n",
              "    .dataframe tbody tr th:only-of-type {\n",
              "        vertical-align: middle;\n",
              "    }\n",
              "\n",
              "    .dataframe tbody tr th {\n",
              "        vertical-align: top;\n",
              "    }\n",
              "\n",
              "    .dataframe thead th {\n",
              "        text-align: right;\n",
              "    }\n",
              "</style>\n",
              "<table border=\"1\" class=\"dataframe\">\n",
              "  <thead>\n",
              "    <tr style=\"text-align: right;\">\n",
              "      <th></th>\n",
              "      <th>Name</th>\n",
              "      <th>Open</th>\n",
              "      <th>High</th>\n",
              "      <th>Low</th>\n",
              "      <th>Close</th>\n",
              "      <th>Volume</th>\n",
              "    </tr>\n",
              "    <tr>\n",
              "      <th>Date</th>\n",
              "      <th></th>\n",
              "      <th></th>\n",
              "      <th></th>\n",
              "      <th></th>\n",
              "      <th></th>\n",
              "      <th></th>\n",
              "    </tr>\n",
              "  </thead>\n",
              "  <tbody>\n",
              "    <tr>\n",
              "      <th>2006-01-03</th>\n",
              "      <td>IBM</td>\n",
              "      <td>82.45</td>\n",
              "      <td>82.55</td>\n",
              "      <td>80.81</td>\n",
              "      <td>82.06</td>\n",
              "      <td>11715200</td>\n",
              "    </tr>\n",
              "    <tr>\n",
              "      <th>2006-01-04</th>\n",
              "      <td>IBM</td>\n",
              "      <td>82.20</td>\n",
              "      <td>82.50</td>\n",
              "      <td>81.33</td>\n",
              "      <td>81.95</td>\n",
              "      <td>9840600</td>\n",
              "    </tr>\n",
              "    <tr>\n",
              "      <th>2006-01-05</th>\n",
              "      <td>IBM</td>\n",
              "      <td>81.40</td>\n",
              "      <td>82.90</td>\n",
              "      <td>81.00</td>\n",
              "      <td>82.50</td>\n",
              "      <td>7213500</td>\n",
              "    </tr>\n",
              "    <tr>\n",
              "      <th>2006-01-06</th>\n",
              "      <td>IBM</td>\n",
              "      <td>83.95</td>\n",
              "      <td>85.03</td>\n",
              "      <td>83.41</td>\n",
              "      <td>84.95</td>\n",
              "      <td>8197400</td>\n",
              "    </tr>\n",
              "    <tr>\n",
              "      <th>2006-01-09</th>\n",
              "      <td>IBM</td>\n",
              "      <td>84.10</td>\n",
              "      <td>84.25</td>\n",
              "      <td>83.38</td>\n",
              "      <td>83.73</td>\n",
              "      <td>6858200</td>\n",
              "    </tr>\n",
              "  </tbody>\n",
              "</table>\n",
              "</div>"
            ],
            "text/plain": [
              "           Name   Open   High    Low  Close    Volume\n",
              "Date                                                 \n",
              "2006-01-03  IBM  82.45  82.55  80.81  82.06  11715200\n",
              "2006-01-04  IBM  82.20  82.50  81.33  81.95   9840600\n",
              "2006-01-05  IBM  81.40  82.90  81.00  82.50   7213500\n",
              "2006-01-06  IBM  83.95  85.03  83.41  84.95   8197400\n",
              "2006-01-09  IBM  84.10  84.25  83.38  83.73   6858200"
            ]
          },
          "metadata": {
            "tags": []
          },
          "execution_count": 5
        }
      ]
    },
    {
      "cell_type": "code",
      "metadata": {
        "colab": {
          "base_uri": "https://localhost:8080/",
          "height": 205
        },
        "id": "4H59htmK-C3t",
        "outputId": "d95e2cfb-24cc-4b22-fa92-6a040af5ba87"
      },
      "source": [
        "data.tail()"
      ],
      "execution_count": null,
      "outputs": [
        {
          "output_type": "execute_result",
          "data": {
            "text/html": [
              "<div>\n",
              "<style scoped>\n",
              "    .dataframe tbody tr th:only-of-type {\n",
              "        vertical-align: middle;\n",
              "    }\n",
              "\n",
              "    .dataframe tbody tr th {\n",
              "        vertical-align: top;\n",
              "    }\n",
              "\n",
              "    .dataframe thead th {\n",
              "        text-align: right;\n",
              "    }\n",
              "</style>\n",
              "<table border=\"1\" class=\"dataframe\">\n",
              "  <thead>\n",
              "    <tr style=\"text-align: right;\">\n",
              "      <th></th>\n",
              "      <th>Name</th>\n",
              "      <th>Open</th>\n",
              "      <th>High</th>\n",
              "      <th>Low</th>\n",
              "      <th>Close</th>\n",
              "      <th>Volume</th>\n",
              "    </tr>\n",
              "    <tr>\n",
              "      <th>Date</th>\n",
              "      <th></th>\n",
              "      <th></th>\n",
              "      <th></th>\n",
              "      <th></th>\n",
              "      <th></th>\n",
              "      <th></th>\n",
              "    </tr>\n",
              "  </thead>\n",
              "  <tbody>\n",
              "    <tr>\n",
              "      <th>2017-12-22</th>\n",
              "      <td>IBM</td>\n",
              "      <td>151.82</td>\n",
              "      <td>153.00</td>\n",
              "      <td>151.50</td>\n",
              "      <td>152.50</td>\n",
              "      <td>2990583</td>\n",
              "    </tr>\n",
              "    <tr>\n",
              "      <th>2017-12-26</th>\n",
              "      <td>IBM</td>\n",
              "      <td>152.51</td>\n",
              "      <td>153.86</td>\n",
              "      <td>152.50</td>\n",
              "      <td>152.83</td>\n",
              "      <td>2479017</td>\n",
              "    </tr>\n",
              "    <tr>\n",
              "      <th>2017-12-27</th>\n",
              "      <td>IBM</td>\n",
              "      <td>152.95</td>\n",
              "      <td>153.18</td>\n",
              "      <td>152.61</td>\n",
              "      <td>153.13</td>\n",
              "      <td>2149257</td>\n",
              "    </tr>\n",
              "    <tr>\n",
              "      <th>2017-12-28</th>\n",
              "      <td>IBM</td>\n",
              "      <td>153.20</td>\n",
              "      <td>154.12</td>\n",
              "      <td>153.20</td>\n",
              "      <td>154.04</td>\n",
              "      <td>2687624</td>\n",
              "    </tr>\n",
              "    <tr>\n",
              "      <th>2017-12-29</th>\n",
              "      <td>IBM</td>\n",
              "      <td>154.17</td>\n",
              "      <td>154.72</td>\n",
              "      <td>153.42</td>\n",
              "      <td>153.42</td>\n",
              "      <td>3327087</td>\n",
              "    </tr>\n",
              "  </tbody>\n",
              "</table>\n",
              "</div>"
            ],
            "text/plain": [
              "           Name    Open    High     Low   Close   Volume\n",
              "Date                                                    \n",
              "2017-12-22  IBM  151.82  153.00  151.50  152.50  2990583\n",
              "2017-12-26  IBM  152.51  153.86  152.50  152.83  2479017\n",
              "2017-12-27  IBM  152.95  153.18  152.61  153.13  2149257\n",
              "2017-12-28  IBM  153.20  154.12  153.20  154.04  2687624\n",
              "2017-12-29  IBM  154.17  154.72  153.42  153.42  3327087"
            ]
          },
          "metadata": {
            "tags": []
          },
          "execution_count": 6
        }
      ]
    },
    {
      "cell_type": "code",
      "metadata": {
        "colab": {
          "base_uri": "https://localhost:8080/"
        },
        "id": "mbJvV5Hg5IVG",
        "outputId": "c1b3891b-bdb2-4fdc-dd20-6d6f7ec263dc"
      },
      "source": [
        "data.shape"
      ],
      "execution_count": null,
      "outputs": [
        {
          "output_type": "execute_result",
          "data": {
            "text/plain": [
              "(3020, 6)"
            ]
          },
          "metadata": {
            "tags": []
          },
          "execution_count": 7
        }
      ]
    },
    {
      "cell_type": "code",
      "metadata": {
        "colab": {
          "base_uri": "https://localhost:8080/",
          "height": 312
        },
        "id": "ofN27KpqQUtw",
        "outputId": "0bc4f0a6-86e6-4f5b-e60f-eed946f26853"
      },
      "source": [
        "# countplot for visualizing all the features of the dataset\r\n",
        "\r\n",
        "sns.countplot(x ='Open', data = data).set_title('Count plot for Open')"
      ],
      "execution_count": null,
      "outputs": [
        {
          "output_type": "execute_result",
          "data": {
            "text/plain": [
              "Text(0.5, 1.0, 'Count plot for Open')"
            ]
          },
          "metadata": {
            "tags": []
          },
          "execution_count": 81
        },
        {
          "output_type": "display_data",
          "data": {
            "image/png": "[encoded data removed]",
            "text/plain": [
              "<Figure size 432x288 with 1 Axes>"
            ]
          },
          "metadata": {
            "tags": [],
            "needs_background": "light"
          }
        }
      ]
    },
    {
      "cell_type": "code",
      "metadata": {
        "colab": {
          "base_uri": "https://localhost:8080/",
          "height": 312
        },
        "id": "Hm094FTWQ2zh",
        "outputId": "4c59bf25-e5d4-4fd8-fde6-ee113daa1f0a"
      },
      "source": [
        "sns.countplot(x ='High', data = data).set_title('Count plot for High')"
      ],
      "execution_count": null,
      "outputs": [
        {
          "output_type": "execute_result",
          "data": {
            "text/plain": [
              "Text(0.5, 1.0, 'Count plot for High')"
            ]
          },
          "metadata": {
            "tags": []
          },
          "execution_count": 82
        },
        {
          "output_type": "display_data",
          "data": {
            "image/png": "[encoded data removed]",
            "text/plain": [
              "<Figure size 432x288 with 1 Axes>"
            ]
          },
          "metadata": {
            "tags": [],
            "needs_background": "light"
          }
        }
      ]
    },
    {
      "cell_type": "code",
      "metadata": {
        "colab": {
          "base_uri": "https://localhost:8080/",
          "height": 312
        },
        "id": "RFd6sZ35Q7Hy",
        "outputId": "c4aa872d-f88b-4350-c609-d48bbf53a976"
      },
      "source": [
        "sns.countplot(x ='Low', data = data).set_title('Count plot for Low')"
      ],
      "execution_count": null,
      "outputs": [
        {
          "output_type": "execute_result",
          "data": {
            "text/plain": [
              "Text(0.5, 1.0, 'Count plot for Low')"
            ]
          },
          "metadata": {
            "tags": []
          },
          "execution_count": 83
        },
        {
          "output_type": "display_data",
          "data": {
            "image/png": "[encoded data removed]",
            "text/plain": [
              "<Figure size 432x288 with 1 Axes>"
            ]
          },
          "metadata": {
            "tags": [],
            "needs_background": "light"
          }
        }
      ]
    },
    {
      "cell_type": "code",
      "metadata": {
        "colab": {
          "base_uri": "https://localhost:8080/",
          "height": 312
        },
        "id": "RE-18C71Q_Ol",
        "outputId": "09bde7a0-2613-468d-ee37-e3ceee765e05"
      },
      "source": [
        "sns.countplot(x ='Close', data = data).set_title('Count plot for Close')"
      ],
      "execution_count": null,
      "outputs": [
        {
          "output_type": "execute_result",
          "data": {
            "text/plain": [
              "Text(0.5, 1.0, 'Count plot for Close')"
            ]
          },
          "metadata": {
            "tags": []
          },
          "execution_count": 84
        },
        {
          "output_type": "display_data",
          "data": {
            "image/png": "[encoded data removed]",
            "text/plain": [
              "<Figure size 432x288 with 1 Axes>"
            ]
          },
          "metadata": {
            "tags": [],
            "needs_background": "light"
          }
        }
      ]
    },
    {
      "cell_type": "code",
      "metadata": {
        "id": "95j0bT_B5cpI"
      },
      "source": [
        "train_set = data[:'2016'].iloc[:,1:2].values\r\n",
        "test_set = data['2017':].iloc[:,1:2].values"
      ],
      "execution_count": null,
      "outputs": []
    },
    {
      "cell_type": "code",
      "metadata": {
        "colab": {
          "base_uri": "https://localhost:8080/"
        },
        "id": "4V0iKB8sBgI2",
        "outputId": "eb92be7b-d60f-493c-930a-09a779ca1805"
      },
      "source": [
        "train_set.shape"
      ],
      "execution_count": null,
      "outputs": [
        {
          "output_type": "execute_result",
          "data": {
            "text/plain": [
              "(2769, 1)"
            ]
          },
          "metadata": {
            "tags": []
          },
          "execution_count": 9
        }
      ]
    },
    {
      "cell_type": "code",
      "metadata": {
        "colab": {
          "base_uri": "https://localhost:8080/"
        },
        "id": "yb3zqUs-EXH5",
        "outputId": "0d63772f-2f6f-4568-889f-ec92652a2f3f"
      },
      "source": [
        "test_set.shape"
      ],
      "execution_count": null,
      "outputs": [
        {
          "output_type": "execute_result",
          "data": {
            "text/plain": [
              "(251, 1)"
            ]
          },
          "metadata": {
            "tags": []
          },
          "execution_count": 10
        }
      ]
    },
    {
      "cell_type": "code",
      "metadata": {
        "colab": {
          "base_uri": "https://localhost:8080/"
        },
        "id": "gJ3vcTio_rUy",
        "outputId": "e6b85fce-f40c-4206-a217-a9029498fe42"
      },
      "source": [
        "len(test_set)"
      ],
      "execution_count": null,
      "outputs": [
        {
          "output_type": "execute_result",
          "data": {
            "text/plain": [
              "251"
            ]
          },
          "metadata": {
            "tags": []
          },
          "execution_count": 13
        }
      ]
    },
    {
      "cell_type": "code",
      "metadata": {
        "colab": {
          "base_uri": "https://localhost:8080/"
        },
        "id": "W2GmvgSl_uVH",
        "outputId": "0be2ef5b-983c-498b-af72-bbbc7479fe28"
      },
      "source": [
        "len(train_set)"
      ],
      "execution_count": null,
      "outputs": [
        {
          "output_type": "execute_result",
          "data": {
            "text/plain": [
              "2769"
            ]
          },
          "metadata": {
            "tags": []
          },
          "execution_count": 14
        }
      ]
    },
    {
      "cell_type": "code",
      "metadata": {
        "colab": {
          "base_uri": "https://localhost:8080/",
          "height": 285
        },
        "id": "gCNx3qJv7VBQ",
        "outputId": "026d47f1-cf04-4edc-f63c-fd63db33cef6"
      },
      "source": [
        "data[\"Open\"][:\"2016\"].plot(figsize=(16,4), legend=True)\r\n",
        "data[\"Open\"][\"2017\":].plot(figsize=(16,4), legend=True)\r\n",
        "plt.legend([\"Training set (before 2017)\", \"Test set (from 2017)\"])\r\n",
        "plt.title(\"IBM stock prices\")\r\n",
        "plt.show()"
      ],
      "execution_count": null,
      "outputs": [
        {
          "output_type": "display_data",
          "data": {
            "image/png": "[encoded data removed]",
            "text/plain": [
              "<Figure size 1152x288 with 1 Axes>"
            ]
          },
          "metadata": {
            "tags": [],
            "needs_background": "light"
          }
        }
      ]
    },
    {
      "cell_type": "code",
      "metadata": {
        "id": "VFQFuPd0JmBm"
      },
      "source": [
        "# Splitting the dataset\r\n",
        "\r\n",
        "X_train = []\r\n",
        "Y_train = []\r\n",
        "\r\n",
        "for i in range(60,2769):\r\n",
        "    X_train.append(train_scaled[i-60:i, 0])\r\n",
        "    Y_train.append(train_scaled[i,0])\r\n",
        "\r\n",
        "X_train, Y_train = np.array(X_train), np.array(Y_train)"
      ],
      "execution_count": null,
      "outputs": []
    },
    {
      "cell_type": "code",
      "metadata": {
        "colab": {
          "base_uri": "https://localhost:8080/"
        },
        "id": "1nKniDpkKEwa",
        "outputId": "5f86de20-8d4f-4c5d-b3cd-49de6fa39f0a"
      },
      "source": [
        "X_train.shape"
      ],
      "execution_count": null,
      "outputs": [
        {
          "output_type": "execute_result",
          "data": {
            "text/plain": [
              "(2709, 60)"
            ]
          },
          "metadata": {
            "tags": []
          },
          "execution_count": 23
        }
      ]
    },
    {
      "cell_type": "code",
      "metadata": {
        "colab": {
          "base_uri": "https://localhost:8080/"
        },
        "id": "aAdQyM0bJ9H8",
        "outputId": "32ae63ea-99f4-4dbc-d73b-8f07b7f295b8"
      },
      "source": [
        "Y_train.shape"
      ],
      "execution_count": null,
      "outputs": [
        {
          "output_type": "execute_result",
          "data": {
            "text/plain": [
              "(2709,)"
            ]
          },
          "metadata": {
            "tags": []
          },
          "execution_count": 24
        }
      ]
    },
    {
      "cell_type": "code",
      "metadata": {
        "id": "LXJpg1aTKJCx"
      },
      "source": [
        "# Reshape\r\n",
        "\r\n",
        "X_train = np.reshape(X_train, (X_train.shape[0], X_train.shape[1], 1))"
      ],
      "execution_count": null,
      "outputs": []
    },
    {
      "cell_type": "code",
      "metadata": {
        "id": "5BmvjPpPGnQm"
      },
      "source": [
        "# feature scaling\r\n",
        "\r\n",
        "from sklearn.preprocessing import MinMaxScaler\r\n",
        "sc = MinMaxScaler(feature_range=(0,1))\r\n",
        "train_scaled = sc.fit_transform(train_set)"
      ],
      "execution_count": null,
      "outputs": []
    },
    {
      "cell_type": "code",
      "metadata": {
        "colab": {
          "base_uri": "https://localhost:8080/"
        },
        "id": "hfR9mjSyKVfd",
        "outputId": "edb7c47f-d35c-4bb9-d171-28b468742cfb"
      },
      "source": [
        "# Making LSTM model\r\n",
        "\r\n",
        "model = Sequential()\r\n",
        "model.add(LSTM(units = 50, return_sequences = True, input_shape = (X_train.shape[1],1)))\r\n",
        "model.add(Dense(1))\r\n",
        "model.compile(loss='mean_squared_error', optimizer='adam')\r\n",
        "model.fit(X_train, Y_train, epochs = 15, batch_size = 1, verbose = 2)"
      ],
      "execution_count": null,
      "outputs": [
        {
          "output_type": "stream",
          "text": [
            "Epoch 1/15\n",
            "2709/2709 - 29s - loss: 0.0079\n",
            "Epoch 2/15\n",
            "2709/2709 - 26s - loss: 0.0045\n",
            "Epoch 3/15\n",
            "2709/2709 - 28s - loss: 0.0043\n",
            "Epoch 4/15\n",
            "2709/2709 - 26s - loss: 0.0042\n",
            "Epoch 5/15\n",
            "2709/2709 - 28s - loss: 0.0042\n",
            "Epoch 6/15\n",
            "2709/2709 - 26s - loss: 0.0042\n",
            "Epoch 7/15\n",
            "2709/2709 - 27s - loss: 0.0042\n",
            "Epoch 8/15\n",
            "2709/2709 - 26s - loss: 0.0041\n",
            "Epoch 9/15\n",
            "2709/2709 - 27s - loss: 0.0041\n",
            "Epoch 10/15\n",
            "2709/2709 - 26s - loss: 0.0041\n",
            "Epoch 11/15\n",
            "2709/2709 - 27s - loss: 0.0041\n",
            "Epoch 12/15\n",
            "2709/2709 - 26s - loss: 0.0041\n",
            "Epoch 13/15\n",
            "2709/2709 - 27s - loss: 0.0040\n",
            "Epoch 14/15\n",
            "2709/2709 - 27s - loss: 0.0041\n",
            "Epoch 15/15\n",
            "2709/2709 - 26s - loss: 0.0040\n"
          ],
          "name": "stdout"
        },
        {
          "output_type": "execute_result",
          "data": {
            "text/plain": [
              "<tensorflow.python.keras.callbacks.History at 0x7f483a742ed0>"
            ]
          },
          "metadata": {
            "tags": []
          },
          "execution_count": 26
        }
      ]
    },
    {
      "cell_type": "code",
      "metadata": {
        "colab": {
          "base_uri": "https://localhost:8080/"
        },
        "id": "luba4qiDQFtL",
        "outputId": "ac633bfc-ad9b-47da-d270-94cab79425ba"
      },
      "source": [
        "data_compiled = pd.concat((data['Open'][:'2016'], data['Open']['2017':]), axis=0)\r\n",
        "print(data_compiled.shape)"
      ],
      "execution_count": null,
      "outputs": [
        {
          "output_type": "stream",
          "text": [
            "(3020,)\n"
          ],
          "name": "stdout"
        }
      ]
    },
    {
      "cell_type": "code",
      "metadata": {
        "colab": {
          "base_uri": "https://localhost:8080/"
        },
        "id": "8VVg9nV9Qjp7",
        "outputId": "daabf98b-fed6-4fb1-b76d-3f52d03634c7"
      },
      "source": [
        "inputs = data_compiled[len(data_compiled)-len(test_set)-60 : ].values\r\n",
        "print(inputs.shape)"
      ],
      "execution_count": null,
      "outputs": [
        {
          "output_type": "stream",
          "text": [
            "(311,)\n"
          ],
          "name": "stdout"
        }
      ]
    },
    {
      "cell_type": "code",
      "metadata": {
        "colab": {
          "base_uri": "https://localhost:8080/"
        },
        "id": "qnRow0inQltJ",
        "outputId": "45ef6cff-549e-44a3-9ae6-787b1ccd8a44"
      },
      "source": [
        "inputs = inputs.reshape(-1,1)\r\n",
        "print(inputs.shape)"
      ],
      "execution_count": null,
      "outputs": [
        {
          "output_type": "stream",
          "text": [
            "(311, 1)\n"
          ],
          "name": "stdout"
        }
      ]
    },
    {
      "cell_type": "code",
      "metadata": {
        "colab": {
          "base_uri": "https://localhost:8080/"
        },
        "id": "oS8xfFztHOEd",
        "outputId": "8a3cb858-653e-429b-80bd-fa53d5a90c51"
      },
      "source": [
        "inputs = sc.transform(inputs)\r\n",
        "print(inputs.shape)"
      ],
      "execution_count": null,
      "outputs": [
        {
          "output_type": "stream",
          "text": [
            "(311, 1)\n"
          ],
          "name": "stdout"
        }
      ]
    },
    {
      "cell_type": "code",
      "metadata": {
        "id": "EeVT6m5YQpkZ"
      },
      "source": [
        "# preparing test set for prediction\r\n",
        "\r\n",
        "X_test = []\r\n",
        "for i in range(60,311):\r\n",
        "    X_test.append(inputs[i-60:i, 0])\r\n",
        "    \r\n",
        "X_test = np.array(X_test)\r\n",
        "X_test = np.reshape(X_test, (X_test.shape[0], X_test.shape[1], 1))"
      ],
      "execution_count": null,
      "outputs": []
    },
    {
      "cell_type": "code",
      "metadata": {
        "id": "7X7v7f-HRAwU"
      },
      "source": [
        "# predicting the stock prices for test set\r\n",
        "\r\n",
        "predicted_val = model.predict(X_test)"
      ],
      "execution_count": null,
      "outputs": []
    },
    {
      "cell_type": "code",
      "metadata": {
        "colab": {
          "base_uri": "https://localhost:8080/"
        },
        "id": "yH_7zPxtS8oU",
        "outputId": "bb349539-5f49-4d0a-868b-d7f4eb74a2b0"
      },
      "source": [
        "X_test.shape"
      ],
      "execution_count": null,
      "outputs": [
        {
          "output_type": "execute_result",
          "data": {
            "text/plain": [
              "(251, 60, 1)"
            ]
          },
          "metadata": {
            "tags": []
          },
          "execution_count": 229
        }
      ]
    },
    {
      "cell_type": "code",
      "metadata": {
        "colab": {
          "base_uri": "https://localhost:8080/"
        },
        "id": "zv53CcBTSRXL",
        "outputId": "300eedd8-dd06-40b0-c3b2-ce59e2fe8ebd"
      },
      "source": [
        "test_set.shape"
      ],
      "execution_count": null,
      "outputs": [
        {
          "output_type": "execute_result",
          "data": {
            "text/plain": [
              "(251, 1)"
            ]
          },
          "metadata": {
            "tags": []
          },
          "execution_count": 34
        }
      ]
    },
    {
      "cell_type": "code",
      "metadata": {
        "id": "lscYRnkgKtXo"
      },
      "source": [
        "predicted_val = np.squeeze(predicted_val, axis=-1)"
      ],
      "execution_count": null,
      "outputs": []
    },
    {
      "cell_type": "code",
      "metadata": {
        "colab": {
          "base_uri": "https://localhost:8080/"
        },
        "id": "lex1QZ3FSVYA",
        "outputId": "81ac7fd3-b3bb-49b6-9fb9-6a2aeeb8bd52"
      },
      "source": [
        "predicted_val.shape"
      ],
      "execution_count": null,
      "outputs": [
        {
          "output_type": "execute_result",
          "data": {
            "text/plain": [
              "(251, 60)"
            ]
          },
          "metadata": {
            "tags": []
          },
          "execution_count": 50
        }
      ]
    },
    {
      "cell_type": "code",
      "metadata": {
        "colab": {
          "base_uri": "https://localhost:8080/",
          "height": 264
        },
        "id": "6g5NEHgvM3l1",
        "outputId": "37724c97-794e-4f6e-b907-6d8be18bc722"
      },
      "source": [
        "# plotting the predictions\r\n",
        "\r\n",
        "plt.plot(predicted_val, label = \"Predicted price\")\r\n",
        "plt.plot(train_set, label = \"trained set\")\r\n",
        "plt.plot(test_set, label = \"Actual price\")\r\n",
        "plt.show()"
      ],
      "execution_count": null,
      "outputs": [
        {
          "output_type": "display_data",
          "data": {
            "image/png": "[encoded data removed]",
            "text/plain": [
              "<Figure size 432x288 with 1 Axes>"
            ]
          },
          "metadata": {
            "tags": [],
            "needs_background": "light"
          }
        }
      ]
    },
    {
      "cell_type": "code",
      "metadata": {
        "id": "6QsstH5DOJRj"
      },
      "source": [
        "# predicted values as a dataframe\r\n",
        "\r\n",
        "predicted_val = pd.DataFrame(data = predicted_val)"
      ],
      "execution_count": null,
      "outputs": []
    },
    {
      "cell_type": "code",
      "metadata": {
        "colab": {
          "base_uri": "https://localhost:8080/"
        },
        "id": "6H-52F-EOPkP",
        "outputId": "609f9c6b-93d5-427a-aa92-94c7b4f889e9"
      },
      "source": [
        "predicted_val.info()"
      ],
      "execution_count": null,
      "outputs": [
        {
          "output_type": "stream",
          "text": [
            "<class 'pandas.core.frame.DataFrame'>\n",
            "RangeIndex: 251 entries, 0 to 250\n",
            "Data columns (total 60 columns):\n",
            " #   Column  Non-Null Count  Dtype  \n",
            "---  ------  --------------  -----  \n",
            " 0   0       250 non-null    float32\n",
            " 1   1       249 non-null    float32\n",
            " 2   2       248 non-null    float32\n",
            " 3   3       247 non-null    float32\n",
            " 4   4       246 non-null    float32\n",
            " 5   5       245 non-null    float32\n",
            " 6   6       244 non-null    float32\n",
            " 7   7       243 non-null    float32\n",
            " 8   8       242 non-null    float32\n",
            " 9   9       241 non-null    float32\n",
            " 10  10      240 non-null    float32\n",
            " 11  11      239 non-null    float32\n",
            " 12  12      238 non-null    float32\n",
            " 13  13      237 non-null    float32\n",
            " 14  14      236 non-null    float32\n",
            " 15  15      235 non-null    float32\n",
            " 16  16      234 non-null    float32\n",
            " 17  17      233 non-null    float32\n",
            " 18  18      232 non-null    float32\n",
            " 19  19      231 non-null    float32\n",
            " 20  20      230 non-null    float32\n",
            " 21  21      229 non-null    float32\n",
            " 22  22      228 non-null    float32\n",
            " 23  23      227 non-null    float32\n",
            " 24  24      226 non-null    float32\n",
            " 25  25      225 non-null    float32\n",
            " 26  26      224 non-null    float32\n",
            " 27  27      223 non-null    float32\n",
            " 28  28      222 non-null    float32\n",
            " 29  29      221 non-null    float32\n",
            " 30  30      220 non-null    float32\n",
            " 31  31      219 non-null    float32\n",
            " 32  32      218 non-null    float32\n",
            " 33  33      217 non-null    float32\n",
            " 34  34      216 non-null    float32\n",
            " 35  35      215 non-null    float32\n",
            " 36  36      214 non-null    float32\n",
            " 37  37      213 non-null    float32\n",
            " 38  38      212 non-null    float32\n",
            " 39  39      211 non-null    float32\n",
            " 40  40      210 non-null    float32\n",
            " 41  41      209 non-null    float32\n",
            " 42  42      208 non-null    float32\n",
            " 43  43      207 non-null    float32\n",
            " 44  44      206 non-null    float32\n",
            " 45  45      205 non-null    float32\n",
            " 46  46      204 non-null    float32\n",
            " 47  47      203 non-null    float32\n",
            " 48  48      202 non-null    float32\n",
            " 49  49      201 non-null    float32\n",
            " 50  50      200 non-null    float32\n",
            " 51  51      199 non-null    float32\n",
            " 52  52      198 non-null    float32\n",
            " 53  53      197 non-null    float32\n",
            " 54  54      196 non-null    float32\n",
            " 55  55      195 non-null    float32\n",
            " 56  56      194 non-null    float32\n",
            " 57  57      193 non-null    float32\n",
            " 58  58      192 non-null    float32\n",
            " 59  59      191 non-null    float32\n",
            "dtypes: float32(60)\n",
            "memory usage: 59.0 KB\n"
          ],
          "name": "stdout"
        }
      ]
    },
    {
      "cell_type": "code",
      "metadata": {
        "id": "NDF_xEfSP_E4"
      },
      "source": [
        ""
      ],
      "execution_count": null,
      "outputs": []
    }
  ]
}